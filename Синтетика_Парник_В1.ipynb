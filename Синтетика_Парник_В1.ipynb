{
  "nbformat": 4,
  "nbformat_minor": 0,
  "metadata": {
    "colab": {
      "provenance": [],
      "authorship_tag": "ABX9TyOWeMGRJp4w0YNVra+Q9rQL",
      "include_colab_link": true
    },
    "kernelspec": {
      "name": "python3",
      "display_name": "Python 3"
    },
    "language_info": {
      "name": "python"
    },
    "widgets": {
      "application/vnd.jupyter.widget-state+json": {
        "1a4cdc8ba05b4281899740cd7586013f": {
          "model_module": "@jupyter-widgets/controls",
          "model_name": "FloatTextModel",
          "model_module_version": "1.5.0",
          "state": {
            "_dom_classes": [],
            "_model_module": "@jupyter-widgets/controls",
            "_model_module_version": "1.5.0",
            "_model_name": "FloatTextModel",
            "_view_count": null,
            "_view_module": "@jupyter-widgets/controls",
            "_view_module_version": "1.5.0",
            "_view_name": "FloatTextView",
            "continuous_update": false,
            "description": "Outdoor Temp (°C):",
            "description_tooltip": null,
            "disabled": false,
            "layout": "IPY_MODEL_4d111eafba4648e681bde47d16d1f349",
            "step": null,
            "style": "IPY_MODEL_d9ac0b1fe812434a8030ac4089758616",
            "value": 25
          }
        },
        "4d111eafba4648e681bde47d16d1f349": {
          "model_module": "@jupyter-widgets/base",
          "model_name": "LayoutModel",
          "model_module_version": "1.2.0",
          "state": {
            "_model_module": "@jupyter-widgets/base",
            "_model_module_version": "1.2.0",
            "_model_name": "LayoutModel",
            "_view_count": null,
            "_view_module": "@jupyter-widgets/base",
            "_view_module_version": "1.2.0",
            "_view_name": "LayoutView",
            "align_content": null,
            "align_items": null,
            "align_self": null,
            "border": null,
            "bottom": null,
            "display": null,
            "flex": null,
            "flex_flow": null,
            "grid_area": null,
            "grid_auto_columns": null,
            "grid_auto_flow": null,
            "grid_auto_rows": null,
            "grid_column": null,
            "grid_gap": null,
            "grid_row": null,
            "grid_template_areas": null,
            "grid_template_columns": null,
            "grid_template_rows": null,
            "height": null,
            "justify_content": null,
            "justify_items": null,
            "left": null,
            "margin": null,
            "max_height": null,
            "max_width": null,
            "min_height": null,
            "min_width": null,
            "object_fit": null,
            "object_position": null,
            "order": null,
            "overflow": null,
            "overflow_x": null,
            "overflow_y": null,
            "padding": null,
            "right": null,
            "top": null,
            "visibility": null,
            "width": null
          }
        },
        "d9ac0b1fe812434a8030ac4089758616": {
          "model_module": "@jupyter-widgets/controls",
          "model_name": "DescriptionStyleModel",
          "model_module_version": "1.5.0",
          "state": {
            "_model_module": "@jupyter-widgets/controls",
            "_model_module_version": "1.5.0",
            "_model_name": "DescriptionStyleModel",
            "_view_count": null,
            "_view_module": "@jupyter-widgets/base",
            "_view_module_version": "1.2.0",
            "_view_name": "StyleView",
            "description_width": ""
          }
        },
        "a6bd87b78d454835a89818879720b65b": {
          "model_module": "@jupyter-widgets/controls",
          "model_name": "FloatTextModel",
          "model_module_version": "1.5.0",
          "state": {
            "_dom_classes": [],
            "_model_module": "@jupyter-widgets/controls",
            "_model_module_version": "1.5.0",
            "_model_name": "FloatTextModel",
            "_view_count": null,
            "_view_module": "@jupyter-widgets/controls",
            "_view_module_version": "1.5.0",
            "_view_name": "FloatTextView",
            "continuous_update": false,
            "description": "Heater Status:",
            "description_tooltip": null,
            "disabled": false,
            "layout": "IPY_MODEL_203dac50b4654e7baead365416aaa591",
            "step": null,
            "style": "IPY_MODEL_7a8af59910f644c7bee2b89c644da015",
            "value": 1
          }
        },
        "203dac50b4654e7baead365416aaa591": {
          "model_module": "@jupyter-widgets/base",
          "model_name": "LayoutModel",
          "model_module_version": "1.2.0",
          "state": {
            "_model_module": "@jupyter-widgets/base",
            "_model_module_version": "1.2.0",
            "_model_name": "LayoutModel",
            "_view_count": null,
            "_view_module": "@jupyter-widgets/base",
            "_view_module_version": "1.2.0",
            "_view_name": "LayoutView",
            "align_content": null,
            "align_items": null,
            "align_self": null,
            "border": null,
            "bottom": null,
            "display": null,
            "flex": null,
            "flex_flow": null,
            "grid_area": null,
            "grid_auto_columns": null,
            "grid_auto_flow": null,
            "grid_auto_rows": null,
            "grid_column": null,
            "grid_gap": null,
            "grid_row": null,
            "grid_template_areas": null,
            "grid_template_columns": null,
            "grid_template_rows": null,
            "height": null,
            "justify_content": null,
            "justify_items": null,
            "left": null,
            "margin": null,
            "max_height": null,
            "max_width": null,
            "min_height": null,
            "min_width": null,
            "object_fit": null,
            "object_position": null,
            "order": null,
            "overflow": null,
            "overflow_x": null,
            "overflow_y": null,
            "padding": null,
            "right": null,
            "top": null,
            "visibility": null,
            "width": null
          }
        },
        "7a8af59910f644c7bee2b89c644da015": {
          "model_module": "@jupyter-widgets/controls",
          "model_name": "DescriptionStyleModel",
          "model_module_version": "1.5.0",
          "state": {
            "_model_module": "@jupyter-widgets/controls",
            "_model_module_version": "1.5.0",
            "_model_name": "DescriptionStyleModel",
            "_view_count": null,
            "_view_module": "@jupyter-widgets/base",
            "_view_module_version": "1.2.0",
            "_view_name": "StyleView",
            "description_width": ""
          }
        },
        "5a3f1ad82673449cbd1231127553119c": {
          "model_module": "@jupyter-widgets/controls",
          "model_name": "FloatTextModel",
          "model_module_version": "1.5.0",
          "state": {
            "_dom_classes": [],
            "_model_module": "@jupyter-widgets/controls",
            "_model_module_version": "1.5.0",
            "_model_name": "FloatTextModel",
            "_view_count": null,
            "_view_module": "@jupyter-widgets/controls",
            "_view_module_version": "1.5.0",
            "_view_name": "FloatTextView",
            "continuous_update": false,
            "description": "Window Status:",
            "description_tooltip": null,
            "disabled": false,
            "layout": "IPY_MODEL_bb16b59328e442e3a730af2bd1f20643",
            "step": null,
            "style": "IPY_MODEL_07b1e1c21bb94b359b0b8f0114eafc4e",
            "value": 0
          }
        },
        "bb16b59328e442e3a730af2bd1f20643": {
          "model_module": "@jupyter-widgets/base",
          "model_name": "LayoutModel",
          "model_module_version": "1.2.0",
          "state": {
            "_model_module": "@jupyter-widgets/base",
            "_model_module_version": "1.2.0",
            "_model_name": "LayoutModel",
            "_view_count": null,
            "_view_module": "@jupyter-widgets/base",
            "_view_module_version": "1.2.0",
            "_view_name": "LayoutView",
            "align_content": null,
            "align_items": null,
            "align_self": null,
            "border": null,
            "bottom": null,
            "display": null,
            "flex": null,
            "flex_flow": null,
            "grid_area": null,
            "grid_auto_columns": null,
            "grid_auto_flow": null,
            "grid_auto_rows": null,
            "grid_column": null,
            "grid_gap": null,
            "grid_row": null,
            "grid_template_areas": null,
            "grid_template_columns": null,
            "grid_template_rows": null,
            "height": null,
            "justify_content": null,
            "justify_items": null,
            "left": null,
            "margin": null,
            "max_height": null,
            "max_width": null,
            "min_height": null,
            "min_width": null,
            "object_fit": null,
            "object_position": null,
            "order": null,
            "overflow": null,
            "overflow_x": null,
            "overflow_y": null,
            "padding": null,
            "right": null,
            "top": null,
            "visibility": null,
            "width": null
          }
        },
        "07b1e1c21bb94b359b0b8f0114eafc4e": {
          "model_module": "@jupyter-widgets/controls",
          "model_name": "DescriptionStyleModel",
          "model_module_version": "1.5.0",
          "state": {
            "_model_module": "@jupyter-widgets/controls",
            "_model_module_version": "1.5.0",
            "_model_name": "DescriptionStyleModel",
            "_view_count": null,
            "_view_module": "@jupyter-widgets/base",
            "_view_module_version": "1.2.0",
            "_view_name": "StyleView",
            "description_width": ""
          }
        },
        "aea7c4a37c33484f8d12019ae7fa560a": {
          "model_module": "@jupyter-widgets/controls",
          "model_name": "FloatTextModel",
          "model_module_version": "1.5.0",
          "state": {
            "_dom_classes": [],
            "_model_module": "@jupyter-widgets/controls",
            "_model_module_version": "1.5.0",
            "_model_name": "FloatTextModel",
            "_view_count": null,
            "_view_module": "@jupyter-widgets/controls",
            "_view_module_version": "1.5.0",
            "_view_name": "FloatTextView",
            "continuous_update": false,
            "description": "Current Indoor Temp (°C):",
            "description_tooltip": null,
            "disabled": false,
            "layout": "IPY_MODEL_d8d07cfa63b44a1cbbd1e1b276bab3dc",
            "step": null,
            "style": "IPY_MODEL_5a12f2334393456d8ec130cd3f3a7fc6",
            "value": 20
          }
        },
        "d8d07cfa63b44a1cbbd1e1b276bab3dc": {
          "model_module": "@jupyter-widgets/base",
          "model_name": "LayoutModel",
          "model_module_version": "1.2.0",
          "state": {
            "_model_module": "@jupyter-widgets/base",
            "_model_module_version": "1.2.0",
            "_model_name": "LayoutModel",
            "_view_count": null,
            "_view_module": "@jupyter-widgets/base",
            "_view_module_version": "1.2.0",
            "_view_name": "LayoutView",
            "align_content": null,
            "align_items": null,
            "align_self": null,
            "border": null,
            "bottom": null,
            "display": null,
            "flex": null,
            "flex_flow": null,
            "grid_area": null,
            "grid_auto_columns": null,
            "grid_auto_flow": null,
            "grid_auto_rows": null,
            "grid_column": null,
            "grid_gap": null,
            "grid_row": null,
            "grid_template_areas": null,
            "grid_template_columns": null,
            "grid_template_rows": null,
            "height": null,
            "justify_content": null,
            "justify_items": null,
            "left": null,
            "margin": null,
            "max_height": null,
            "max_width": null,
            "min_height": null,
            "min_width": null,
            "object_fit": null,
            "object_position": null,
            "order": null,
            "overflow": null,
            "overflow_x": null,
            "overflow_y": null,
            "padding": null,
            "right": null,
            "top": null,
            "visibility": null,
            "width": null
          }
        },
        "5a12f2334393456d8ec130cd3f3a7fc6": {
          "model_module": "@jupyter-widgets/controls",
          "model_name": "DescriptionStyleModel",
          "model_module_version": "1.5.0",
          "state": {
            "_model_module": "@jupyter-widgets/controls",
            "_model_module_version": "1.5.0",
            "_model_name": "DescriptionStyleModel",
            "_view_count": null,
            "_view_module": "@jupyter-widgets/base",
            "_view_module_version": "1.2.0",
            "_view_name": "StyleView",
            "description_width": ""
          }
        },
        "d25cd78552cb410bb6deedc4c28339aa": {
          "model_module": "@jupyter-widgets/controls",
          "model_name": "ButtonModel",
          "model_module_version": "1.5.0",
          "state": {
            "_dom_classes": [],
            "_model_module": "@jupyter-widgets/controls",
            "_model_module_version": "1.5.0",
            "_model_name": "ButtonModel",
            "_view_count": null,
            "_view_module": "@jupyter-widgets/controls",
            "_view_module_version": "1.5.0",
            "_view_name": "ButtonView",
            "button_style": "",
            "description": "Predict Temperature",
            "disabled": false,
            "icon": "",
            "layout": "IPY_MODEL_8a4f06b4bcb6442bbeafc9fde85a098a",
            "style": "IPY_MODEL_a4b35957d79c4fbe93a1464b1401c8da",
            "tooltip": ""
          }
        },
        "8a4f06b4bcb6442bbeafc9fde85a098a": {
          "model_module": "@jupyter-widgets/base",
          "model_name": "LayoutModel",
          "model_module_version": "1.2.0",
          "state": {
            "_model_module": "@jupyter-widgets/base",
            "_model_module_version": "1.2.0",
            "_model_name": "LayoutModel",
            "_view_count": null,
            "_view_module": "@jupyter-widgets/base",
            "_view_module_version": "1.2.0",
            "_view_name": "LayoutView",
            "align_content": null,
            "align_items": null,
            "align_self": null,
            "border": null,
            "bottom": null,
            "display": null,
            "flex": null,
            "flex_flow": null,
            "grid_area": null,
            "grid_auto_columns": null,
            "grid_auto_flow": null,
            "grid_auto_rows": null,
            "grid_column": null,
            "grid_gap": null,
            "grid_row": null,
            "grid_template_areas": null,
            "grid_template_columns": null,
            "grid_template_rows": null,
            "height": null,
            "justify_content": null,
            "justify_items": null,
            "left": null,
            "margin": null,
            "max_height": null,
            "max_width": null,
            "min_height": null,
            "min_width": null,
            "object_fit": null,
            "object_position": null,
            "order": null,
            "overflow": null,
            "overflow_x": null,
            "overflow_y": null,
            "padding": null,
            "right": null,
            "top": null,
            "visibility": null,
            "width": null
          }
        },
        "a4b35957d79c4fbe93a1464b1401c8da": {
          "model_module": "@jupyter-widgets/controls",
          "model_name": "ButtonStyleModel",
          "model_module_version": "1.5.0",
          "state": {
            "_model_module": "@jupyter-widgets/controls",
            "_model_module_version": "1.5.0",
            "_model_name": "ButtonStyleModel",
            "_view_count": null,
            "_view_module": "@jupyter-widgets/base",
            "_view_module_version": "1.2.0",
            "_view_name": "StyleView",
            "button_color": null,
            "font_weight": ""
          }
        }
      }
    }
  },
  "cells": [
    {
      "cell_type": "markdown",
      "metadata": {
        "id": "view-in-github",
        "colab_type": "text"
      },
      "source": [
        "<a href=\"https://colab.research.google.com/github/Cflalex/CflAlex95/blob/main/%D0%A1%D0%B8%D0%BD%D1%82%D0%B5%D1%82%D0%B8%D0%BA%D0%B0_%D0%9F%D0%B0%D1%80%D0%BD%D0%B8%D0%BA_%D0%921.ipynb\" target=\"_parent\"><img src=\"https://colab.research.google.com/assets/colab-badge.svg\" alt=\"Open In Colab\"/></a>"
      ]
    },
    {
      "cell_type": "code",
      "source": [
        "import pandas as pd\n",
        "import numpy as np\n",
        "import datetime\n",
        "\n",
        "# Количество строк в файле\n",
        "n_rows = 288  # Данные каждые 5 минут на протяжении 24 часов\n",
        "\n",
        "# Инициализация времени и даты\n",
        "start_time = datetime.datetime.now().replace(hour=0, minute=0, second=0, microsecond=0)\n",
        "time_interval = datetime.timedelta(minutes=5)  # интервал в 5 минут\n",
        "\n",
        "# Инициализация начальных условий\n",
        "indoor_temp = 20\n",
        "outdoor_temp = 10\n",
        "heater_status = 0  # OFF\n",
        "window_status = 0  # Closed\n",
        "timestamps = []\n",
        "indoor_temps = []\n",
        "outdoor_temps = []\n",
        "heater_statuses = []\n",
        "window_statuses = []\n",
        "\n",
        "# Генерация данных\n",
        "for i in range(n_rows):\n",
        "    timestamps.append(start_time)\n",
        "    indoor_temps.append(indoor_temp)\n",
        "    outdoor_temps.append(outdoor_temp)\n",
        "    heater_statuses.append(heater_status)\n",
        "    window_statuses.append(window_status)\n",
        "\n",
        "    # Изменение условий\n",
        "    if heater_status == 1:  # ON\n",
        "        indoor_temp = min(35, indoor_temp + 0.1)  # 2 градуса в час\n",
        "    elif window_status == 1:  # Open\n",
        "        indoor_temp = max(10, indoor_temp - 0.2)  # 4 градуса в час\n",
        "\n",
        "    # Сглаживание температуры снаружи\n",
        "    target_temp = 10 + 30 * np.sin((start_time.hour - 4) * np.pi / 12)\n",
        "    outdoor_temp += min(1/12, abs(target_temp - outdoor_temp)) * np.sign(target_temp - outdoor_temp)\n",
        "\n",
        "    # Случайные события\n",
        "    if np.random.rand() > 0.95:\n",
        "        heater_status = 1 - heater_status  # Toggle\n",
        "    if np.random.rand() > 0.95:\n",
        "        window_status = 1 - window_status  # Toggle\n",
        "\n",
        "    # Уравнивание температуры внутри и снаружи\n",
        "    if heater_status == 0 and window_status == 0:  # Both OFF and Closed\n",
        "        indoor_temp += (outdoor_temp - indoor_temp) / (6 * 12)  # 6 часов на уравнивание\n",
        "\n",
        "    # Обновление времени\n",
        "    start_time += time_interval\n",
        "\n",
        "# Создание DataFrame\n",
        "df = pd.DataFrame({\n",
        "    'Timestamp': timestamps,\n",
        "    'Indoor_Temp': indoor_temps,\n",
        "    'Heater_Status': heater_statuses,\n",
        "    'Window_Status': window_statuses,\n",
        "    'Outdoor_Temp': outdoor_temps,\n",
        "})\n",
        "\n",
        "# Сохранение в CSV-файл\n",
        "df.to_csv('synthetic_data.csv', index=False)\n",
        "\n",
        "print(\"Синтетические данные сохранены в 'synthetic_data.csv'\")\n",
        "\n"
      ],
      "metadata": {
        "colab": {
          "base_uri": "https://localhost:8080/"
        },
        "id": "KPNc84KETbZJ",
        "outputId": "6842059b-5cdc-49d1-d128-408159f81357"
      },
      "execution_count": 1,
      "outputs": [
        {
          "output_type": "stream",
          "name": "stdout",
          "text": [
            "Синтетические данные сохранены в 'synthetic_data.csv'\n"
          ]
        }
      ]
    },
    {
      "cell_type": "code",
      "source": [
        "# Импорт необходимых библиотек\n",
        "import pandas as pd\n",
        "import numpy as np\n",
        "from sklearn.model_selection import train_test_split\n",
        "from sklearn.preprocessing import StandardScaler\n",
        "from tensorflow.keras.models import Sequential\n",
        "from tensorflow.keras.layers import LSTM, Dense\n",
        "\n",
        "# Загрузка данных\n",
        "df = pd.read_csv('synthetic_data.csv')\n",
        "\n",
        "# Подготовка данных\n",
        "X = df[['Indoor_Temp', 'Outdoor_Temp', 'Heater_Status', 'Window_Status']].copy()\n",
        "X['Heater_Status'] = X['Heater_Status'].apply(lambda x: 1 if x == 'ON' else 0)\n",
        "X['Window_Status'] = X['Window_Status'].apply(lambda x: 1 if x == 'Open' else 0)\n",
        "y = df['Indoor_Temp']\n",
        "\n",
        "# Нормализация данных\n",
        "scaler = StandardScaler()\n",
        "X_scaled = scaler.fit_transform(X)\n",
        "\n",
        "# Преобразование данных для LSTM\n",
        "X_lstm = np.array([X_scaled[i-10:i] for i in range(10, len(X_scaled))])\n",
        "y_lstm = y[10:]\n",
        "\n",
        "# Разделение данных на обучающую и тестовую выборки\n",
        "X_train, X_test, y_train, y_test = train_test_split(X_lstm, y_lstm, test_size=0.2, random_state=42)\n",
        "\n",
        "from tensorflow.keras.callbacks import EarlyStopping\n",
        "\n",
        "# Создание модели\n",
        "model = Sequential()\n",
        "model.add(LSTM(50, input_shape=(X_train.shape[1], X_train.shape[2]), return_sequences=True))\n",
        "model.add(LSTM(50))\n",
        "model.add(Dense(1))\n",
        "\n",
        "# Компиляция модели\n",
        "model.compile(optimizer='adam', loss='mean_squared_error')\n",
        "\n",
        "# Early Stopping\n",
        "early_stop = EarlyStopping(monitor='val_loss', patience=5, restore_best_weights=True)\n",
        "\n",
        "# Обучение модели с добавлением Early Stopping и 70 эпохами (50 старых + 20 новых)\n",
        "model.fit(X_train, y_train, epochs=100, batch_size=32, verbose=1, callbacks=[early_stop], validation_split=0.2)\n",
        "\n",
        "# Оценка модели\n",
        "loss = model.evaluate(X_test, y_test)\n",
        "print(f\"Test Loss: {loss}\")\n",
        "\n"
      ],
      "metadata": {
        "colab": {
          "base_uri": "https://localhost:8080/"
        },
        "id": "QD2VfMcAJ6aE",
        "outputId": "9a338379-5a1a-47bb-a321-2de40c33a7c3"
      },
      "execution_count": 2,
      "outputs": [
        {
          "output_type": "stream",
          "name": "stdout",
          "text": [
            "Epoch 1/100\n",
            "6/6 [==============================] - 6s 293ms/step - loss: 305.0200 - val_loss: 290.7489\n",
            "Epoch 2/100\n",
            "6/6 [==============================] - 0s 32ms/step - loss: 297.4326 - val_loss: 281.5875\n",
            "Epoch 3/100\n",
            "6/6 [==============================] - 0s 33ms/step - loss: 284.2986 - val_loss: 264.1657\n",
            "Epoch 4/100\n",
            "6/6 [==============================] - 0s 34ms/step - loss: 259.9352 - val_loss: 233.0885\n",
            "Epoch 5/100\n",
            "6/6 [==============================] - 0s 29ms/step - loss: 219.8745 - val_loss: 185.7132\n",
            "Epoch 6/100\n",
            "6/6 [==============================] - 0s 31ms/step - loss: 166.1845 - val_loss: 125.6376\n",
            "Epoch 7/100\n",
            "6/6 [==============================] - 0s 21ms/step - loss: 108.0076 - val_loss: 78.2836\n",
            "Epoch 8/100\n",
            "6/6 [==============================] - 0s 18ms/step - loss: 73.6799 - val_loss: 57.0808\n",
            "Epoch 9/100\n",
            "6/6 [==============================] - 0s 29ms/step - loss: 56.3092 - val_loss: 44.7876\n",
            "Epoch 10/100\n",
            "6/6 [==============================] - 0s 21ms/step - loss: 45.4722 - val_loss: 36.4682\n",
            "Epoch 11/100\n",
            "6/6 [==============================] - 0s 18ms/step - loss: 37.7778 - val_loss: 30.3701\n",
            "Epoch 12/100\n",
            "6/6 [==============================] - 0s 21ms/step - loss: 31.9660 - val_loss: 25.8321\n",
            "Epoch 13/100\n",
            "6/6 [==============================] - 0s 19ms/step - loss: 27.6120 - val_loss: 22.4454\n",
            "Epoch 14/100\n",
            "6/6 [==============================] - 0s 21ms/step - loss: 24.3469 - val_loss: 19.7773\n",
            "Epoch 15/100\n",
            "6/6 [==============================] - 0s 19ms/step - loss: 21.6651 - val_loss: 17.6124\n",
            "Epoch 16/100\n",
            "6/6 [==============================] - 0s 19ms/step - loss: 19.4511 - val_loss: 15.7971\n",
            "Epoch 17/100\n",
            "6/6 [==============================] - 0s 23ms/step - loss: 17.6700 - val_loss: 14.2453\n",
            "Epoch 18/100\n",
            "6/6 [==============================] - 0s 19ms/step - loss: 16.0516 - val_loss: 12.9443\n",
            "Epoch 19/100\n",
            "6/6 [==============================] - 0s 19ms/step - loss: 14.6512 - val_loss: 11.8571\n",
            "Epoch 20/100\n",
            "6/6 [==============================] - 0s 18ms/step - loss: 13.5314 - val_loss: 10.8962\n",
            "Epoch 21/100\n",
            "6/6 [==============================] - 0s 19ms/step - loss: 12.5080 - val_loss: 10.0860\n",
            "Epoch 22/100\n",
            "6/6 [==============================] - 0s 22ms/step - loss: 11.6123 - val_loss: 9.4111\n",
            "Epoch 23/100\n",
            "6/6 [==============================] - 0s 21ms/step - loss: 10.8579 - val_loss: 8.8383\n",
            "Epoch 24/100\n",
            "6/6 [==============================] - 0s 24ms/step - loss: 10.2244 - val_loss: 8.3477\n",
            "Epoch 25/100\n",
            "6/6 [==============================] - 0s 22ms/step - loss: 9.6698 - val_loss: 7.9285\n",
            "Epoch 26/100\n",
            "6/6 [==============================] - 0s 20ms/step - loss: 9.1975 - val_loss: 7.5728\n",
            "Epoch 27/100\n",
            "6/6 [==============================] - 0s 21ms/step - loss: 8.7629 - val_loss: 7.2843\n",
            "Epoch 28/100\n",
            "6/6 [==============================] - 0s 21ms/step - loss: 8.4333 - val_loss: 7.0395\n",
            "Epoch 29/100\n",
            "6/6 [==============================] - 0s 18ms/step - loss: 8.1512 - val_loss: 6.8342\n",
            "Epoch 30/100\n",
            "6/6 [==============================] - 0s 18ms/step - loss: 7.8678 - val_loss: 6.6764\n",
            "Epoch 31/100\n",
            "6/6 [==============================] - 0s 19ms/step - loss: 7.6692 - val_loss: 6.5403\n",
            "Epoch 32/100\n",
            "6/6 [==============================] - 0s 21ms/step - loss: 7.4895 - val_loss: 6.4244\n",
            "Epoch 33/100\n",
            "6/6 [==============================] - 0s 21ms/step - loss: 7.3217 - val_loss: 6.3317\n",
            "Epoch 34/100\n",
            "6/6 [==============================] - 0s 23ms/step - loss: 7.2011 - val_loss: 6.2496\n",
            "Epoch 35/100\n",
            "6/6 [==============================] - 0s 18ms/step - loss: 7.0691 - val_loss: 6.1842\n",
            "Epoch 36/100\n",
            "6/6 [==============================] - 0s 23ms/step - loss: 6.9807 - val_loss: 6.1232\n",
            "Epoch 37/100\n",
            "6/6 [==============================] - 0s 21ms/step - loss: 6.8827 - val_loss: 6.0661\n",
            "Epoch 38/100\n",
            "6/6 [==============================] - 0s 22ms/step - loss: 6.7915 - val_loss: 6.0090\n",
            "Epoch 39/100\n",
            "6/6 [==============================] - 0s 21ms/step - loss: 6.7043 - val_loss: 5.9465\n",
            "Epoch 40/100\n",
            "6/6 [==============================] - 0s 21ms/step - loss: 6.6127 - val_loss: 5.8774\n",
            "Epoch 41/100\n",
            "6/6 [==============================] - 0s 24ms/step - loss: 6.5186 - val_loss: 5.7972\n",
            "Epoch 42/100\n",
            "6/6 [==============================] - 0s 19ms/step - loss: 6.4065 - val_loss: 5.6994\n",
            "Epoch 43/100\n",
            "6/6 [==============================] - 0s 19ms/step - loss: 6.2873 - val_loss: 5.5816\n",
            "Epoch 44/100\n",
            "6/6 [==============================] - 0s 19ms/step - loss: 6.1464 - val_loss: 5.4437\n",
            "Epoch 45/100\n",
            "6/6 [==============================] - 0s 19ms/step - loss: 5.9838 - val_loss: 5.2781\n",
            "Epoch 46/100\n",
            "6/6 [==============================] - 0s 20ms/step - loss: 5.7915 - val_loss: 5.0702\n",
            "Epoch 47/100\n",
            "6/6 [==============================] - 0s 21ms/step - loss: 5.5473 - val_loss: 4.8285\n",
            "Epoch 48/100\n",
            "6/6 [==============================] - 0s 23ms/step - loss: 5.2779 - val_loss: 4.5215\n",
            "Epoch 49/100\n",
            "6/6 [==============================] - 0s 20ms/step - loss: 4.9358 - val_loss: 4.1354\n",
            "Epoch 50/100\n",
            "6/6 [==============================] - 0s 21ms/step - loss: 4.5269 - val_loss: 3.6813\n",
            "Epoch 51/100\n",
            "6/6 [==============================] - 0s 21ms/step - loss: 4.0606 - val_loss: 3.2319\n",
            "Epoch 52/100\n",
            "6/6 [==============================] - 0s 19ms/step - loss: 3.6200 - val_loss: 2.8782\n",
            "Epoch 53/100\n",
            "6/6 [==============================] - 0s 21ms/step - loss: 3.2910 - val_loss: 2.6823\n",
            "Epoch 54/100\n",
            "6/6 [==============================] - 0s 22ms/step - loss: 3.0696 - val_loss: 2.5420\n",
            "Epoch 55/100\n",
            "6/6 [==============================] - 0s 23ms/step - loss: 2.8787 - val_loss: 2.4039\n",
            "Epoch 56/100\n",
            "6/6 [==============================] - 0s 21ms/step - loss: 2.6873 - val_loss: 2.2841\n",
            "Epoch 57/100\n",
            "6/6 [==============================] - 0s 19ms/step - loss: 2.5223 - val_loss: 2.1960\n",
            "Epoch 58/100\n",
            "6/6 [==============================] - 0s 20ms/step - loss: 2.3911 - val_loss: 2.1166\n",
            "Epoch 59/100\n",
            "6/6 [==============================] - 0s 19ms/step - loss: 2.2743 - val_loss: 2.0400\n",
            "Epoch 60/100\n",
            "6/6 [==============================] - 0s 21ms/step - loss: 2.1751 - val_loss: 1.9721\n",
            "Epoch 61/100\n",
            "6/6 [==============================] - 0s 19ms/step - loss: 2.0797 - val_loss: 1.9083\n",
            "Epoch 62/100\n",
            "6/6 [==============================] - 0s 19ms/step - loss: 1.9999 - val_loss: 1.8429\n",
            "Epoch 63/100\n",
            "6/6 [==============================] - 0s 22ms/step - loss: 1.9109 - val_loss: 1.7738\n",
            "Epoch 64/100\n",
            "6/6 [==============================] - 0s 23ms/step - loss: 1.8351 - val_loss: 1.7013\n",
            "Epoch 65/100\n",
            "6/6 [==============================] - 0s 19ms/step - loss: 1.7566 - val_loss: 1.6243\n",
            "Epoch 66/100\n",
            "6/6 [==============================] - 0s 22ms/step - loss: 1.6834 - val_loss: 1.5527\n",
            "Epoch 67/100\n",
            "6/6 [==============================] - 0s 21ms/step - loss: 1.6138 - val_loss: 1.4863\n",
            "Epoch 68/100\n",
            "6/6 [==============================] - 0s 19ms/step - loss: 1.5518 - val_loss: 1.4277\n",
            "Epoch 69/100\n",
            "6/6 [==============================] - 0s 22ms/step - loss: 1.4930 - val_loss: 1.3713\n",
            "Epoch 70/100\n",
            "6/6 [==============================] - 0s 23ms/step - loss: 1.4272 - val_loss: 1.3215\n",
            "Epoch 71/100\n",
            "6/6 [==============================] - 0s 21ms/step - loss: 1.3716 - val_loss: 1.2728\n",
            "Epoch 72/100\n",
            "6/6 [==============================] - 0s 21ms/step - loss: 1.3205 - val_loss: 1.2240\n",
            "Epoch 73/100\n",
            "6/6 [==============================] - 0s 22ms/step - loss: 1.2634 - val_loss: 1.1737\n",
            "Epoch 74/100\n",
            "6/6 [==============================] - 0s 19ms/step - loss: 1.2143 - val_loss: 1.1290\n",
            "Epoch 75/100\n",
            "6/6 [==============================] - 0s 23ms/step - loss: 1.1679 - val_loss: 1.0825\n",
            "Epoch 76/100\n",
            "6/6 [==============================] - 0s 19ms/step - loss: 1.1175 - val_loss: 1.0344\n",
            "Epoch 77/100\n",
            "6/6 [==============================] - 0s 20ms/step - loss: 1.0776 - val_loss: 0.9863\n",
            "Epoch 78/100\n",
            "6/6 [==============================] - 0s 22ms/step - loss: 1.0298 - val_loss: 0.9437\n",
            "Epoch 79/100\n",
            "6/6 [==============================] - 0s 22ms/step - loss: 0.9885 - val_loss: 0.9040\n",
            "Epoch 80/100\n",
            "6/6 [==============================] - 0s 25ms/step - loss: 0.9448 - val_loss: 0.8574\n",
            "Epoch 81/100\n",
            "6/6 [==============================] - 0s 21ms/step - loss: 0.9049 - val_loss: 0.8167\n",
            "Epoch 82/100\n",
            "6/6 [==============================] - 0s 22ms/step - loss: 0.8642 - val_loss: 0.7797\n",
            "Epoch 83/100\n",
            "6/6 [==============================] - 0s 23ms/step - loss: 0.8269 - val_loss: 0.7438\n",
            "Epoch 84/100\n",
            "6/6 [==============================] - 0s 22ms/step - loss: 0.7890 - val_loss: 0.7046\n",
            "Epoch 85/100\n",
            "6/6 [==============================] - 0s 18ms/step - loss: 0.7542 - val_loss: 0.6712\n",
            "Epoch 86/100\n",
            "6/6 [==============================] - 0s 20ms/step - loss: 0.7195 - val_loss: 0.6412\n",
            "Epoch 87/100\n",
            "6/6 [==============================] - 0s 29ms/step - loss: 0.6910 - val_loss: 0.6124\n",
            "Epoch 88/100\n",
            "6/6 [==============================] - 0s 32ms/step - loss: 0.6559 - val_loss: 0.5840\n",
            "Epoch 89/100\n",
            "6/6 [==============================] - 0s 31ms/step - loss: 0.6288 - val_loss: 0.5593\n",
            "Epoch 90/100\n",
            "6/6 [==============================] - 0s 29ms/step - loss: 0.6037 - val_loss: 0.5357\n",
            "Epoch 91/100\n",
            "6/6 [==============================] - 0s 30ms/step - loss: 0.5771 - val_loss: 0.5140\n",
            "Epoch 92/100\n",
            "6/6 [==============================] - 0s 30ms/step - loss: 0.5538 - val_loss: 0.4923\n",
            "Epoch 93/100\n",
            "6/6 [==============================] - 0s 30ms/step - loss: 0.5292 - val_loss: 0.4734\n",
            "Epoch 94/100\n",
            "6/6 [==============================] - 0s 35ms/step - loss: 0.5112 - val_loss: 0.4560\n",
            "Epoch 95/100\n",
            "6/6 [==============================] - 0s 27ms/step - loss: 0.4919 - val_loss: 0.4396\n",
            "Epoch 96/100\n",
            "6/6 [==============================] - 0s 28ms/step - loss: 0.4751 - val_loss: 0.4234\n",
            "Epoch 97/100\n",
            "6/6 [==============================] - 0s 28ms/step - loss: 0.4573 - val_loss: 0.4112\n",
            "Epoch 98/100\n",
            "6/6 [==============================] - 0s 28ms/step - loss: 0.4384 - val_loss: 0.3964\n",
            "Epoch 99/100\n",
            "6/6 [==============================] - 0s 30ms/step - loss: 0.4214 - val_loss: 0.3834\n",
            "Epoch 100/100\n",
            "6/6 [==============================] - 0s 30ms/step - loss: 0.4091 - val_loss: 0.3697\n",
            "2/2 [==============================] - 0s 11ms/step - loss: 0.3641\n",
            "Test Loss: 0.3641379475593567\n"
          ]
        }
      ]
    },
    {
      "cell_type": "code",
      "source": [
        "from ipywidgets import widgets\n",
        "from IPython.display import display\n",
        "import numpy as np\n",
        "import pandas as pd\n",
        "\n",
        "# Загрузка данных из файла\n",
        "data = pd.read_csv('synthetic_data.csv')\n",
        "initial_buffer = data.tail(9).values  # Инициализация буфера последними 9 строками\n",
        "\n",
        "# Виджеты для ввода данных\n",
        "outdoor_temp = widgets.FloatText(value=15, description='Outdoor Temp (°C):')\n",
        "heater_status = widgets.FloatText(value=0, description='Heater Status:')\n",
        "window_status = widgets.FloatText(value=0, description='Window Status:')\n",
        "current_indoor_temp = widgets.FloatText(value=20, description='Current Indoor Temp (°C):')\n",
        "\n",
        "# Кнопка для предсказания\n",
        "predict_button = widgets.Button(description='Predict Temperature')\n",
        "\n",
        "from datetime import datetime\n",
        "\n",
        "# Ваш код для импорта и инициализации модели и т.д.\n",
        "\n",
        "# Инициализация буфера данными из CSV-файла\n",
        "initial_buffer = data.iloc[-10:].values  # Предполагается, что 'data' - это ваш DataFrame\n",
        "\n",
        "# Виджеты и функция для предсказания остаются прежними\n",
        "\n",
        "# Допустим, у нас уже есть scaler, который был обучен на обучающей выборке.\n",
        "# Мы можем использовать этот scaler для нормализации новых входных данных.\n",
        "\n",
        "# Предполагаем, что initial_buffer имеет размерность (10, 4), где первый столбец - это время\n",
        "# new_input_scaled имеет размерность (1, 4)\n",
        "\n",
        "def predict_temperature(b):\n",
        "    global initial_buffer  # Объявляем переменную как глобальную\n",
        "    current_time = datetime.now().strftime(\"%Y-%m-%d %H:%M:%S\")  # Получаем текущее время\n",
        "\n",
        "    # Создаем новую строку данных\n",
        "    new_input = np.array([current_indoor_temp.value, outdoor_temp.value, heater_status.value, window_status.value])\n",
        "\n",
        "    # Нормализуем новую строку данных\n",
        "    new_input_scaled = scaler.transform([new_input])\n",
        "\n",
        "    # Обновляем буфер\n",
        "    initial_buffer = np.vstack([initial_buffer[1:], [current_time] + list(new_input_scaled[0])])  # Удаляем первую строку\n",
        "\n",
        "    # Расширяем размерности для соответствия форме, ожидаемой моделью\n",
        "    input_data = np.expand_dims(initial_buffer[:, 1:], axis=0)  # Здесь уже нет столбца времени\n",
        "\n",
        "    # Делаем предсказание\n",
        "    input_data = input_data.astype(np.float32)\n",
        "    predicted_temp = model.predict(input_data)[0][0]\n",
        "\n",
        "    print(f\"Predicted Indoor Temperature in 30 minutes: {predicted_temp:.2f}°C\")\n",
        "\n",
        "# Остальной код остается прежним\n",
        "\n",
        "# Примечание: Этот код не будет работать в этом окружении, так как он зависит от внешних переменных и модели,\n",
        "# которые здесь не определены. Вы можете скопировать этот код и вставить его в ваш собственный код для тестирования.\n",
        "\n",
        "\n",
        "# Остальной код остается прежним\n",
        "\n",
        "# Примечание: Этот код не будет работать в этом окружении, так как он зависит от внешних переменных и модели,\n",
        "# которые здесь не определены. Вы можете скопировать этот код и вставить его в ваш собственный код для тестирования.\n",
        "\n",
        "\n",
        "# Остальной код остается прежним\n",
        "\n",
        "\n",
        "# Связываем кнопку с функцией\n",
        "predict_button.on_click(predict_temperature)\n",
        "\n",
        "# Отображаем виджеты\n",
        "display(outdoor_temp, heater_status, window_status, current_indoor_temp, predict_button)\n"
      ],
      "metadata": {
        "colab": {
          "base_uri": "https://localhost:8080/",
          "height": 1000,
          "referenced_widgets": [
            "1a4cdc8ba05b4281899740cd7586013f",
            "4d111eafba4648e681bde47d16d1f349",
            "d9ac0b1fe812434a8030ac4089758616",
            "a6bd87b78d454835a89818879720b65b",
            "203dac50b4654e7baead365416aaa591",
            "7a8af59910f644c7bee2b89c644da015",
            "5a3f1ad82673449cbd1231127553119c",
            "bb16b59328e442e3a730af2bd1f20643",
            "07b1e1c21bb94b359b0b8f0114eafc4e",
            "aea7c4a37c33484f8d12019ae7fa560a",
            "d8d07cfa63b44a1cbbd1e1b276bab3dc",
            "5a12f2334393456d8ec130cd3f3a7fc6",
            "d25cd78552cb410bb6deedc4c28339aa",
            "8a4f06b4bcb6442bbeafc9fde85a098a",
            "a4b35957d79c4fbe93a1464b1401c8da"
          ]
        },
        "id": "y6LtI63wHEpc",
        "outputId": "617d1a2b-338c-4279-cf81-0770190f876f"
      },
      "execution_count": 7,
      "outputs": [
        {
          "output_type": "display_data",
          "data": {
            "text/plain": [
              "FloatText(value=15.0, description='Outdoor Temp (°C):')"
            ],
            "application/vnd.jupyter.widget-view+json": {
              "version_major": 2,
              "version_minor": 0,
              "model_id": "1a4cdc8ba05b4281899740cd7586013f"
            }
          },
          "metadata": {}
        },
        {
          "output_type": "display_data",
          "data": {
            "text/plain": [
              "FloatText(value=0.0, description='Heater Status:')"
            ],
            "application/vnd.jupyter.widget-view+json": {
              "version_major": 2,
              "version_minor": 0,
              "model_id": "a6bd87b78d454835a89818879720b65b"
            }
          },
          "metadata": {}
        },
        {
          "output_type": "display_data",
          "data": {
            "text/plain": [
              "FloatText(value=0.0, description='Window Status:')"
            ],
            "application/vnd.jupyter.widget-view+json": {
              "version_major": 2,
              "version_minor": 0,
              "model_id": "5a3f1ad82673449cbd1231127553119c"
            }
          },
          "metadata": {}
        },
        {
          "output_type": "display_data",
          "data": {
            "text/plain": [
              "FloatText(value=20.0, description='Current Indoor Temp (°C):')"
            ],
            "application/vnd.jupyter.widget-view+json": {
              "version_major": 2,
              "version_minor": 0,
              "model_id": "aea7c4a37c33484f8d12019ae7fa560a"
            }
          },
          "metadata": {}
        },
        {
          "output_type": "display_data",
          "data": {
            "text/plain": [
              "Button(description='Predict Temperature', style=ButtonStyle())"
            ],
            "application/vnd.jupyter.widget-view+json": {
              "version_major": 2,
              "version_minor": 0,
              "model_id": "d25cd78552cb410bb6deedc4c28339aa"
            }
          },
          "metadata": {}
        },
        {
          "output_type": "stream",
          "name": "stderr",
          "text": [
            "/usr/local/lib/python3.10/dist-packages/sklearn/base.py:439: UserWarning: X does not have valid feature names, but StandardScaler was fitted with feature names\n",
            "  warnings.warn(\n"
          ]
        },
        {
          "output_type": "stream",
          "name": "stdout",
          "text": [
            "1/1 [==============================] - 0s 250ms/step\n",
            "Predicted Indoor Temperature in 30 minutes: 20.00°C\n",
            "1/1 [==============================] - 0s 24ms/step\n",
            "Predicted Indoor Temperature in 30 minutes: 19.99°C\n"
          ]
        },
        {
          "output_type": "stream",
          "name": "stderr",
          "text": [
            "/usr/local/lib/python3.10/dist-packages/sklearn/base.py:439: UserWarning: X does not have valid feature names, but StandardScaler was fitted with feature names\n",
            "  warnings.warn(\n"
          ]
        },
        {
          "output_type": "stream",
          "name": "stdout",
          "text": [
            "1/1 [==============================] - 0s 22ms/step\n",
            "Predicted Indoor Temperature in 30 minutes: 19.96°C\n"
          ]
        },
        {
          "output_type": "stream",
          "name": "stderr",
          "text": [
            "/usr/local/lib/python3.10/dist-packages/sklearn/base.py:439: UserWarning: X does not have valid feature names, but StandardScaler was fitted with feature names\n",
            "  warnings.warn(\n"
          ]
        },
        {
          "output_type": "stream",
          "name": "stdout",
          "text": [
            "1/1 [==============================] - 0s 24ms/step\n",
            "Predicted Indoor Temperature in 30 minutes: 19.87°C\n"
          ]
        },
        {
          "output_type": "stream",
          "name": "stderr",
          "text": [
            "/usr/local/lib/python3.10/dist-packages/sklearn/base.py:439: UserWarning: X does not have valid feature names, but StandardScaler was fitted with feature names\n",
            "  warnings.warn(\n"
          ]
        },
        {
          "output_type": "stream",
          "name": "stdout",
          "text": [
            "1/1 [==============================] - 0s 32ms/step\n",
            "Predicted Indoor Temperature in 30 minutes: 19.60°C\n"
          ]
        },
        {
          "output_type": "stream",
          "name": "stderr",
          "text": [
            "/usr/local/lib/python3.10/dist-packages/sklearn/base.py:439: UserWarning: X does not have valid feature names, but StandardScaler was fitted with feature names\n",
            "  warnings.warn(\n"
          ]
        },
        {
          "output_type": "stream",
          "name": "stdout",
          "text": [
            "1/1 [==============================] - 0s 22ms/step\n",
            "Predicted Indoor Temperature in 30 minutes: 19.26°C\n"
          ]
        },
        {
          "output_type": "stream",
          "name": "stderr",
          "text": [
            "/usr/local/lib/python3.10/dist-packages/sklearn/base.py:439: UserWarning: X does not have valid feature names, but StandardScaler was fitted with feature names\n",
            "  warnings.warn(\n"
          ]
        },
        {
          "output_type": "stream",
          "name": "stdout",
          "text": [
            "1/1 [==============================] - 0s 21ms/step\n",
            "Predicted Indoor Temperature in 30 minutes: 18.98°C\n"
          ]
        },
        {
          "output_type": "stream",
          "name": "stderr",
          "text": [
            "/usr/local/lib/python3.10/dist-packages/sklearn/base.py:439: UserWarning: X does not have valid feature names, but StandardScaler was fitted with feature names\n",
            "  warnings.warn(\n"
          ]
        },
        {
          "output_type": "stream",
          "name": "stdout",
          "text": [
            "1/1 [==============================] - 0s 22ms/step\n",
            "Predicted Indoor Temperature in 30 minutes: 18.75°C\n"
          ]
        },
        {
          "output_type": "stream",
          "name": "stderr",
          "text": [
            "/usr/local/lib/python3.10/dist-packages/sklearn/base.py:439: UserWarning: X does not have valid feature names, but StandardScaler was fitted with feature names\n",
            "  warnings.warn(\n"
          ]
        },
        {
          "output_type": "stream",
          "name": "stdout",
          "text": [
            "1/1 [==============================] - 0s 23ms/step\n",
            "Predicted Indoor Temperature in 30 minutes: 18.69°C\n"
          ]
        },
        {
          "output_type": "stream",
          "name": "stderr",
          "text": [
            "/usr/local/lib/python3.10/dist-packages/sklearn/base.py:439: UserWarning: X does not have valid feature names, but StandardScaler was fitted with feature names\n",
            "  warnings.warn(\n"
          ]
        },
        {
          "output_type": "stream",
          "name": "stdout",
          "text": [
            "1/1 [==============================] - 0s 22ms/step\n",
            "Predicted Indoor Temperature in 30 minutes: 19.77°C\n"
          ]
        },
        {
          "output_type": "stream",
          "name": "stderr",
          "text": [
            "/usr/local/lib/python3.10/dist-packages/sklearn/base.py:439: UserWarning: X does not have valid feature names, but StandardScaler was fitted with feature names\n",
            "  warnings.warn(\n"
          ]
        },
        {
          "output_type": "stream",
          "name": "stdout",
          "text": [
            "1/1 [==============================] - 0s 25ms/step\n",
            "Predicted Indoor Temperature in 30 minutes: 19.74°C\n"
          ]
        },
        {
          "output_type": "stream",
          "name": "stderr",
          "text": [
            "/usr/local/lib/python3.10/dist-packages/sklearn/base.py:439: UserWarning: X does not have valid feature names, but StandardScaler was fitted with feature names\n",
            "  warnings.warn(\n"
          ]
        },
        {
          "output_type": "stream",
          "name": "stdout",
          "text": [
            "1/1 [==============================] - 0s 26ms/step\n",
            "Predicted Indoor Temperature in 30 minutes: 19.70°C\n"
          ]
        },
        {
          "output_type": "stream",
          "name": "stderr",
          "text": [
            "/usr/local/lib/python3.10/dist-packages/sklearn/base.py:439: UserWarning: X does not have valid feature names, but StandardScaler was fitted with feature names\n",
            "  warnings.warn(\n"
          ]
        },
        {
          "output_type": "stream",
          "name": "stdout",
          "text": [
            "1/1 [==============================] - 0s 22ms/step\n",
            "Predicted Indoor Temperature in 30 minutes: 19.62°C\n"
          ]
        },
        {
          "output_type": "stream",
          "name": "stderr",
          "text": [
            "/usr/local/lib/python3.10/dist-packages/sklearn/base.py:439: UserWarning: X does not have valid feature names, but StandardScaler was fitted with feature names\n",
            "  warnings.warn(\n"
          ]
        },
        {
          "output_type": "stream",
          "name": "stdout",
          "text": [
            "1/1 [==============================] - 0s 22ms/step\n",
            "Predicted Indoor Temperature in 30 minutes: 19.62°C\n"
          ]
        },
        {
          "output_type": "stream",
          "name": "stderr",
          "text": [
            "/usr/local/lib/python3.10/dist-packages/sklearn/base.py:439: UserWarning: X does not have valid feature names, but StandardScaler was fitted with feature names\n",
            "  warnings.warn(\n"
          ]
        },
        {
          "output_type": "stream",
          "name": "stdout",
          "text": [
            "1/1 [==============================] - 0s 25ms/step\n",
            "Predicted Indoor Temperature in 30 minutes: 19.66°C\n"
          ]
        },
        {
          "output_type": "stream",
          "name": "stderr",
          "text": [
            "/usr/local/lib/python3.10/dist-packages/sklearn/base.py:439: UserWarning: X does not have valid feature names, but StandardScaler was fitted with feature names\n",
            "  warnings.warn(\n"
          ]
        },
        {
          "output_type": "stream",
          "name": "stdout",
          "text": [
            "1/1 [==============================] - 0s 36ms/step\n",
            "Predicted Indoor Temperature in 30 minutes: 19.76°C\n"
          ]
        },
        {
          "output_type": "stream",
          "name": "stderr",
          "text": [
            "/usr/local/lib/python3.10/dist-packages/sklearn/base.py:439: UserWarning: X does not have valid feature names, but StandardScaler was fitted with feature names\n",
            "  warnings.warn(\n"
          ]
        }
      ]
    }
  ]
}